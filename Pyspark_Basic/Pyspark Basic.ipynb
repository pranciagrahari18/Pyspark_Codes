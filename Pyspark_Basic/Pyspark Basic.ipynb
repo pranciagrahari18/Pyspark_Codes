{
 "cells": [
  {
   "cell_type": "markdown",
   "metadata": {
    "application/vnd.databricks.v1+cell": {
     "cellMetadata": {},
     "inputWidgets": {},
     "nuid": "77b5ba82-3c01-4259-b798-0bdf4cf2c1cd",
     "showTitle": false,
     "title": ""
    }
   },
   "source": [
    "#Create Spark Session"
   ]
  },
  {
   "cell_type": "code",
   "execution_count": 0,
   "metadata": {
    "application/vnd.databricks.v1+cell": {
     "cellMetadata": {
      "byteLimit": 2048000,
      "rowLimit": 10000
     },
     "inputWidgets": {},
     "nuid": "27a849b5-f083-4b19-b810-dca73c7a47cc",
     "showTitle": false,
     "title": ""
    }
   },
   "outputs": [
    {
     "output_type": "stream",
     "name": "stdout",
     "output_type": "stream",
     "text": [
      "+-----+------------+-----------+------------------+-------------------+------------+------------------+-----------+----------+---------+-----+------+-----------+-------------+---------------+-------------+-----------------+\n|  _c0|         _c1|        _c2|               _c3|                _c4|         _c5|               _c6|        _c7|       _c8|      _c9| _c10|  _c11|       _c12|         _c13|           _c14|         _c15|             _c16|\n+-----+------------+-----------+------------------+-------------------+------------+------------------+-----------+----------+---------+-----+------+-----------+-------------+---------------+-------------+-----------------+\n|CarID|Manufacturer|      Model|Sales_in_thousands|__year_resale_value|Vehicle_type|Price_in_thousands|Engine_size|Horsepower|Wheelbase|Width|Length|Curb_weight|Fuel_capacity|Fuel_efficiency|Latest_Launch|Power_perf_factor|\n|    1|       Acura|    Integra|            16.919|              16.36|   Passenger|              21.5|        1.8|       140|    101.2| 67.3| 172.4|      2.639|         13.2|             28|     2/2/2012|      58.28014952|\n|    2|       Acura|         TL|            39.384|             19.875|   Passenger|              28.4|        3.2|       225|    108.1| 70.3| 192.9|      3.517|         17.2|             25|     6/3/2011|      91.37077766|\n|    3|       Acura|         CL|            14.114|             18.225|   Passenger|              null|        3.2|       225|    106.9| 70.6|   192|       3.47|         17.2|             26|     1/4/2012|             null|\n|    4|       Acura|         RL|             8.588|             29.725|   Passenger|                42|        3.5|       210|    114.6| 71.4| 196.6|       3.85|           18|             22|    3/10/2011|      91.38977933|\n|    5|        Audi|         A4|            20.397|             22.255|   Passenger|             23.99|        1.8|       150|    102.6| 68.2|   178|      2.998|         16.4|             27|    10/8/2011|       62.7776392|\n|    6|        Audi|         A6|             18.78|             23.555|   Passenger|             33.95|        2.8|       200|    108.7| 76.1|   192|      3.561|         18.5|             22|     8/9/2011|      84.56510502|\n|    7|        Audi|         A8|              1.38|                 39|   Passenger|                62|        4.2|       310|      113|   74| 198.2|      3.902|         23.7|             21|    2/27/2012|      134.6568582|\n|    8|         BMW|       323i|            19.747|               null|   Passenger|             26.99|        2.5|       170|    107.3| 68.4|   176|      3.179|         16.6|             26|    6/28/2011|      71.19120671|\n|    9|         BMW|       328i|             9.231|             28.675|   Passenger|              33.4|        2.8|       193|    107.3| 68.5|   176|      3.197|         16.6|             24|    1/29/2012|      81.87706856|\n|   10|         BMW|       528i|            17.527|             36.125|   Passenger|              38.9|        2.8|       193|    111.4| 70.9|   188|      3.472|         18.5|             25|     4/4/2011|       83.9987238|\n|   11|       Buick|    Century|            91.561|             12.475|   Passenger|            21.975|        3.1|       175|      109| 72.7| 194.6|      3.368|         17.5|             25|    11/2/2011|      71.18145132|\n|   12|       Buick|      Regal|             39.35|              13.74|   Passenger|              25.3|        3.8|       240|      109| 72.7| 196.2|      3.543|         17.5|             23|     9/3/2011|      95.63670253|\n|   13|       Buick|Park Avenue|            27.851|              20.19|   Passenger|            31.965|        3.8|       205|    113.8| 74.7| 206.8|      3.778|         18.5|             24|    3/23/2012|      85.82840825|\n|   14|       Buick|    LeSabre|            83.257|              13.36|   Passenger|            27.885|        3.8|       205|    112.2| 73.5|   200|      3.591|         17.5|             25|    7/23/2011|      84.25452581|\n|   15|    Cadillac|    DeVille|            63.729|             22.525|   Passenger|            39.895|        4.6|       275|    115.3| 74.5| 207.2|      3.978|         18.5|             22|    2/23/2012|      113.8545976|\n|   16|    Cadillac|    Seville|            15.943|               27.1|   Passenger|            44.475|        4.6|       275|    112.2|   75|   201|       null|         18.5|             22|    4/29/2011|      115.6213578|\n|   17|    Cadillac|   Eldorado|             6.536|             25.725|   Passenger|            39.665|        4.6|       275|      108| 75.5| 200.6|      3.843|           19|             22|   11/27/2011|      113.7658739|\n|   18|    Cadillac|     Catera|            11.185|             18.225|   Passenger|             31.01|          3|       200|    107.4| 70.3| 194.8|       3.77|           18|             22|    9/28/2011|      83.48309358|\n|   19|    Cadillac|   Escalade|            14.785|               null|         Car|            46.225|        5.7|       255|    117.5|   77| 201.2|      5.572|           30|             15|    4/17/2012|      109.5091165|\n+-----+------------+-----------+------------------+-------------------+------------+------------------+-----------+----------+---------+-----+------+-----------+-------------+---------------+-------------+-----------------+\nonly showing top 20 rows\n\n"
     ]
    }
   ],
   "source": [
    "from pyspark.sql import SparkSession\n",
    "spark = SparkSession.builder.appName(\"Name\").getOrCreate()\n",
    "df = spark.read.csv(\"dbfs:/FileStore/Car_sales1.csv\")\n",
    "df.show()\n",
    "# By default in Azure Databricks and Azure synapse spark object is present"
   ]
  },
  {
   "cell_type": "markdown",
   "metadata": {
    "application/vnd.databricks.v1+cell": {
     "cellMetadata": {},
     "inputWidgets": {},
     "nuid": "abc648e0-e7f5-4f89-aca5-77880a129410",
     "showTitle": false,
     "title": ""
    }
   },
   "source": [
    "#Create DataFrame"
   ]
  },
  {
   "cell_type": "code",
   "execution_count": 0,
   "metadata": {
    "application/vnd.databricks.v1+cell": {
     "cellMetadata": {
      "byteLimit": 2048000,
      "rowLimit": 10000
     },
     "inputWidgets": {},
     "nuid": "959dd3bb-b172-4d9e-bd9c-1b62a9a4ef81",
     "showTitle": false,
     "title": "Create DataFrame Method- 1(By default schema generate there datatype)"
    }
   },
   "outputs": [
    {
     "output_type": "stream",
     "name": "stdout",
     "output_type": "stream",
     "text": [
      "+---+------+---+\n| id|  name|age|\n+---+------+---+\n|  1|Pranci| 26|\n|  2| Tanna| 24|\n+---+------+---+\n\n"
     ]
    }
   ],
   "source": [
    "#Method- 1(By default schema generate there datatype)\n",
    "data = [(1,\"Pranci\",26),(2,\"Tanna\",24)]\n",
    "df = spark.createDataFrame(data = data, schema = ['id','name','age'])\n",
    "df.show()"
   ]
  },
  {
   "cell_type": "code",
   "execution_count": 0,
   "metadata": {
    "application/vnd.databricks.v1+cell": {
     "cellMetadata": {
      "byteLimit": 2048000,
      "rowLimit": 10000
     },
     "inputWidgets": {},
     "nuid": "cedee1cf-82ba-4765-adf4-518bede31ace",
     "showTitle": false,
     "title": ""
    }
   },
   "outputs": [
    {
     "output_type": "stream",
     "name": "stdout",
     "output_type": "stream",
     "text": [
      "Out[3]: pyspark.sql.dataframe.DataFrame"
     ]
    }
   ],
   "source": [
    "type(df) #to get the type of data"
   ]
  },
  {
   "cell_type": "code",
   "execution_count": 0,
   "metadata": {
    "application/vnd.databricks.v1+cell": {
     "cellMetadata": {
      "byteLimit": 2048000,
      "rowLimit": 10000
     },
     "inputWidgets": {},
     "nuid": "1ac6f5f8-30fe-4fc8-9b4f-6a235b20d28e",
     "showTitle": false,
     "title": ""
    }
   },
   "outputs": [
    {
     "output_type": "stream",
     "name": "stdout",
     "output_type": "stream",
     "text": [
      "Out[4]: ['__class__',\n '__delattr__',\n '__dict__',\n '__dir__',\n '__doc__',\n '__eq__',\n '__format__',\n '__ge__',\n '__getattr__',\n '__getattribute__',\n '__getitem__',\n '__gt__',\n '__hash__',\n '__init__',\n '__init_subclass__',\n '__le__',\n '__lt__',\n '__module__',\n '__ne__',\n '__new__',\n '__reduce__',\n '__reduce_ex__',\n '__repr__',\n '__setattr__',\n '__sizeof__',\n '__str__',\n '__subclasshook__',\n '__weakref__',\n '_collect_as_arrow',\n '_jcols',\n '_jdf',\n '_jmap',\n '_joinAsOf',\n '_jseq',\n '_lazy_rdd',\n '_repr_html_',\n '_sc',\n '_schema',\n '_session',\n '_sort_cols',\n '_sql_ctx',\n '_support_repr_html',\n '_to_corrected_pandas_type',\n 'agg',\n 'alias',\n 'approxQuantile',\n 'cache',\n 'checkpoint',\n 'coalesce',\n 'colRegex',\n 'collect',\n 'columns',\n 'corr',\n 'count',\n 'cov',\n 'createGlobalTempView',\n 'createOrReplaceGlobalTempView',\n 'createOrReplaceTempView',\n 'createTempView',\n 'crossJoin',\n 'crosstab',\n 'cube',\n 'describe',\n 'display',\n 'distinct',\n 'drop',\n 'dropDuplicates',\n 'drop_duplicates',\n 'dropna',\n 'dtypes',\n 'exceptAll',\n 'explain',\n 'fillna',\n 'filter',\n 'first',\n 'foreach',\n 'foreachPartition',\n 'freqItems',\n 'groupBy',\n 'groupby',\n 'head',\n 'hint',\n 'inputFiles',\n 'intersect',\n 'intersectAll',\n 'isEmpty',\n 'isLocal',\n 'isStreaming',\n 'is_cached',\n 'join',\n 'limit',\n 'localCheckpoint',\n 'mapInArrow',\n 'mapInPandas',\n 'melt',\n 'na',\n 'observe',\n 'orderBy',\n 'pandas_api',\n 'persist',\n 'printSchema',\n 'randomSplit',\n 'rdd',\n 'registerTempTable',\n 'repartition',\n 'repartitionByRange',\n 'replace',\n 'rollup',\n 'sameSemantics',\n 'sample',\n 'sampleBy',\n 'schema',\n 'select',\n 'selectExpr',\n 'semanticHash',\n 'show',\n 'sort',\n 'sortWithinPartitions',\n 'sparkSession',\n 'sql_ctx',\n 'stat',\n 'storageLevel',\n 'subtract',\n 'summary',\n 'tail',\n 'take',\n 'to',\n 'toDF',\n 'toJSON',\n 'toLocalIterator',\n 'toPandas',\n 'to_koalas',\n 'to_pandas_on_spark',\n 'transform',\n 'union',\n 'unionAll',\n 'unionByName',\n 'unpersist',\n 'unpivot',\n 'where',\n 'withColumn',\n 'withColumnRenamed',\n 'withColumns',\n 'withMetadata',\n 'withWatermark',\n 'write',\n 'writeStream',\n 'writeTo']"
     ]
    }
   ],
   "source": [
    "dir(df) # to get all the list of properties, methods and Functions"
   ]
  },
  {
   "cell_type": "code",
   "execution_count": 0,
   "metadata": {
    "application/vnd.databricks.v1+cell": {
     "cellMetadata": {
      "byteLimit": 2048000,
      "rowLimit": 10000
     },
     "inputWidgets": {},
     "nuid": "73c01ae4-9303-4e0e-8972-af348d23b1e5",
     "showTitle": false,
     "title": "Create DataFrame Method- 2( we mention the datatype of schema)"
    }
   },
   "outputs": [
    {
     "output_type": "stream",
     "name": "stdout",
     "output_type": "stream",
     "text": [
      "+---+------+------+\n| id|  Name|Salary|\n+---+------+------+\n|  1|Pranci|  2000|\n|  2| Tanna|  5000|\n+---+------+------+\n\n"
     ]
    }
   ],
   "source": [
    "# Method- 2( we mention the datatype of schema)\n",
    "from pyspark.sql.types import StructField,StructType, IntegerType,StringType\n",
    "data = [(1,\"Pranci\",2000),(2,\"Tanna\",5000)]\n",
    "sche = StructType([StructField(name = \"id\",dataType= IntegerType()),\n",
    "                   StructField(name = \"Name\",dataType = StringType()),\n",
    "                   StructField(name = \"Salary\",dataType = IntegerType())])\n",
    "df = spark.createDataFrame(data = data, schema = sche)\n",
    "df.show()"
   ]
  },
  {
   "cell_type": "markdown",
   "metadata": {
    "application/vnd.databricks.v1+cell": {
     "cellMetadata": {},
     "inputWidgets": {},
     "nuid": "4862ff97-c409-41a1-a3e6-1c4fa666ee7a",
     "showTitle": false,
     "title": ""
    }
   },
   "source": [
    "#Read CSV File"
   ]
  },
  {
   "cell_type": "code",
   "execution_count": 0,
   "metadata": {
    "application/vnd.databricks.v1+cell": {
     "cellMetadata": {
      "byteLimit": 2048000,
      "rowLimit": 10000
     },
     "inputWidgets": {},
     "nuid": "ec00c0b6-6a71-40fd-b208-cb60d9e4d0e2",
     "showTitle": false,
     "title": ""
    }
   },
   "outputs": [
    {
     "output_type": "stream",
     "name": "stdout",
     "output_type": "stream",
     "text": [
      "+-----+------------+-----------+------------------+-------------------+------------+------------------+-----------+----------+---------+-----+------+-----------+-------------+---------------+-------------+-----------------+\n|  _c0|         _c1|        _c2|               _c3|                _c4|         _c5|               _c6|        _c7|       _c8|      _c9| _c10|  _c11|       _c12|         _c13|           _c14|         _c15|             _c16|\n+-----+------------+-----------+------------------+-------------------+------------+------------------+-----------+----------+---------+-----+------+-----------+-------------+---------------+-------------+-----------------+\n|CarID|Manufacturer|      Model|Sales_in_thousands|__year_resale_value|Vehicle_type|Price_in_thousands|Engine_size|Horsepower|Wheelbase|Width|Length|Curb_weight|Fuel_capacity|Fuel_efficiency|Latest_Launch|Power_perf_factor|\n|    1|       Acura|    Integra|            16.919|              16.36|   Passenger|              21.5|        1.8|       140|    101.2| 67.3| 172.4|      2.639|         13.2|             28|     2/2/2012|      58.28014952|\n|    2|       Acura|         TL|            39.384|             19.875|   Passenger|              28.4|        3.2|       225|    108.1| 70.3| 192.9|      3.517|         17.2|             25|     6/3/2011|      91.37077766|\n|    3|       Acura|         CL|            14.114|             18.225|   Passenger|              null|        3.2|       225|    106.9| 70.6|   192|       3.47|         17.2|             26|     1/4/2012|             null|\n|    4|       Acura|         RL|             8.588|             29.725|   Passenger|                42|        3.5|       210|    114.6| 71.4| 196.6|       3.85|           18|             22|    3/10/2011|      91.38977933|\n|    5|        Audi|         A4|            20.397|             22.255|   Passenger|             23.99|        1.8|       150|    102.6| 68.2|   178|      2.998|         16.4|             27|    10/8/2011|       62.7776392|\n|    6|        Audi|         A6|             18.78|             23.555|   Passenger|             33.95|        2.8|       200|    108.7| 76.1|   192|      3.561|         18.5|             22|     8/9/2011|      84.56510502|\n|    7|        Audi|         A8|              1.38|                 39|   Passenger|                62|        4.2|       310|      113|   74| 198.2|      3.902|         23.7|             21|    2/27/2012|      134.6568582|\n|    8|         BMW|       323i|            19.747|               null|   Passenger|             26.99|        2.5|       170|    107.3| 68.4|   176|      3.179|         16.6|             26|    6/28/2011|      71.19120671|\n|    9|         BMW|       328i|             9.231|             28.675|   Passenger|              33.4|        2.8|       193|    107.3| 68.5|   176|      3.197|         16.6|             24|    1/29/2012|      81.87706856|\n|   10|         BMW|       528i|            17.527|             36.125|   Passenger|              38.9|        2.8|       193|    111.4| 70.9|   188|      3.472|         18.5|             25|     4/4/2011|       83.9987238|\n|   11|       Buick|    Century|            91.561|             12.475|   Passenger|            21.975|        3.1|       175|      109| 72.7| 194.6|      3.368|         17.5|             25|    11/2/2011|      71.18145132|\n|   12|       Buick|      Regal|             39.35|              13.74|   Passenger|              25.3|        3.8|       240|      109| 72.7| 196.2|      3.543|         17.5|             23|     9/3/2011|      95.63670253|\n|   13|       Buick|Park Avenue|            27.851|              20.19|   Passenger|            31.965|        3.8|       205|    113.8| 74.7| 206.8|      3.778|         18.5|             24|    3/23/2012|      85.82840825|\n|   14|       Buick|    LeSabre|            83.257|              13.36|   Passenger|            27.885|        3.8|       205|    112.2| 73.5|   200|      3.591|         17.5|             25|    7/23/2011|      84.25452581|\n|   15|    Cadillac|    DeVille|            63.729|             22.525|   Passenger|            39.895|        4.6|       275|    115.3| 74.5| 207.2|      3.978|         18.5|             22|    2/23/2012|      113.8545976|\n|   16|    Cadillac|    Seville|            15.943|               27.1|   Passenger|            44.475|        4.6|       275|    112.2|   75|   201|       null|         18.5|             22|    4/29/2011|      115.6213578|\n|   17|    Cadillac|   Eldorado|             6.536|             25.725|   Passenger|            39.665|        4.6|       275|      108| 75.5| 200.6|      3.843|           19|             22|   11/27/2011|      113.7658739|\n|   18|    Cadillac|     Catera|            11.185|             18.225|   Passenger|             31.01|          3|       200|    107.4| 70.3| 194.8|       3.77|           18|             22|    9/28/2011|      83.48309358|\n|   19|    Cadillac|   Escalade|            14.785|               null|         Car|            46.225|        5.7|       255|    117.5|   77| 201.2|      5.572|           30|             15|    4/17/2012|      109.5091165|\n+-----+------------+-----------+------------------+-------------------+------------+------------------+-----------+----------+---------+-----+------+-----------+-------------+---------------+-------------+-----------------+\nonly showing top 20 rows\n\n"
     ]
    }
   ],
   "source": [
    "#Method 1 - Read single file\n",
    "df = spark.read.csv(\"dbfs:/FileStore/Car_sales1.csv\",inferSchema = True)\n",
    "df.show()"
   ]
  },
  {
   "cell_type": "code",
   "execution_count": 0,
   "metadata": {
    "application/vnd.databricks.v1+cell": {
     "cellMetadata": {
      "byteLimit": 2048000,
      "rowLimit": 10000
     },
     "inputWidgets": {},
     "nuid": "21a5c70d-2f7d-4710-ab80-d5a29ebb1e47",
     "showTitle": false,
     "title": ""
    }
   },
   "outputs": [
    {
     "output_type": "stream",
     "name": "stdout",
     "output_type": "stream",
     "text": [
      "+-----+------------+-----------+------------------+-------------------+------------+------------------+-----------+----------+---------+-----+------+-----------+-------------+---------------+-------------+-----------------+\n|CarID|Manufacturer|      Model|Sales_in_thousands|__year_resale_value|Vehicle_type|Price_in_thousands|Engine_size|Horsepower|Wheelbase|Width|Length|Curb_weight|Fuel_capacity|Fuel_efficiency|Latest_Launch|Power_perf_factor|\n+-----+------------+-----------+------------------+-------------------+------------+------------------+-----------+----------+---------+-----+------+-----------+-------------+---------------+-------------+-----------------+\n|    1|       Acura|    Integra|            16.919|              16.36|   Passenger|              21.5|        1.8|       140|    101.2| 67.3| 172.4|      2.639|         13.2|             28|     2/2/2012|      58.28014952|\n|    2|       Acura|         TL|            39.384|             19.875|   Passenger|              28.4|        3.2|       225|    108.1| 70.3| 192.9|      3.517|         17.2|             25|     6/3/2011|      91.37077766|\n|    3|       Acura|         CL|            14.114|             18.225|   Passenger|              null|        3.2|       225|    106.9| 70.6|   192|       3.47|         17.2|             26|     1/4/2012|             null|\n|    4|       Acura|         RL|             8.588|             29.725|   Passenger|                42|        3.5|       210|    114.6| 71.4| 196.6|       3.85|           18|             22|    3/10/2011|      91.38977933|\n|    5|        Audi|         A4|            20.397|             22.255|   Passenger|             23.99|        1.8|       150|    102.6| 68.2|   178|      2.998|         16.4|             27|    10/8/2011|       62.7776392|\n|    6|        Audi|         A6|             18.78|             23.555|   Passenger|             33.95|        2.8|       200|    108.7| 76.1|   192|      3.561|         18.5|             22|     8/9/2011|      84.56510502|\n|    7|        Audi|         A8|              1.38|                 39|   Passenger|                62|        4.2|       310|      113|   74| 198.2|      3.902|         23.7|             21|    2/27/2012|      134.6568582|\n|    8|         BMW|       323i|            19.747|               null|   Passenger|             26.99|        2.5|       170|    107.3| 68.4|   176|      3.179|         16.6|             26|    6/28/2011|      71.19120671|\n|    9|         BMW|       328i|             9.231|             28.675|   Passenger|              33.4|        2.8|       193|    107.3| 68.5|   176|      3.197|         16.6|             24|    1/29/2012|      81.87706856|\n|   10|         BMW|       528i|            17.527|             36.125|   Passenger|              38.9|        2.8|       193|    111.4| 70.9|   188|      3.472|         18.5|             25|     4/4/2011|       83.9987238|\n|   11|       Buick|    Century|            91.561|             12.475|   Passenger|            21.975|        3.1|       175|      109| 72.7| 194.6|      3.368|         17.5|             25|    11/2/2011|      71.18145132|\n|   12|       Buick|      Regal|             39.35|              13.74|   Passenger|              25.3|        3.8|       240|      109| 72.7| 196.2|      3.543|         17.5|             23|     9/3/2011|      95.63670253|\n|   13|       Buick|Park Avenue|            27.851|              20.19|   Passenger|            31.965|        3.8|       205|    113.8| 74.7| 206.8|      3.778|         18.5|             24|    3/23/2012|      85.82840825|\n|   14|       Buick|    LeSabre|            83.257|              13.36|   Passenger|            27.885|        3.8|       205|    112.2| 73.5|   200|      3.591|         17.5|             25|    7/23/2011|      84.25452581|\n|   15|    Cadillac|    DeVille|            63.729|             22.525|   Passenger|            39.895|        4.6|       275|    115.3| 74.5| 207.2|      3.978|         18.5|             22|    2/23/2012|      113.8545976|\n|   16|    Cadillac|    Seville|            15.943|               27.1|   Passenger|            44.475|        4.6|       275|    112.2|   75|   201|       null|         18.5|             22|    4/29/2011|      115.6213578|\n|   17|    Cadillac|   Eldorado|             6.536|             25.725|   Passenger|            39.665|        4.6|       275|      108| 75.5| 200.6|      3.843|           19|             22|   11/27/2011|      113.7658739|\n|   18|    Cadillac|     Catera|            11.185|             18.225|   Passenger|             31.01|          3|       200|    107.4| 70.3| 194.8|       3.77|           18|             22|    9/28/2011|      83.48309358|\n|   19|    Cadillac|   Escalade|            14.785|               null|         Car|            46.225|        5.7|       255|    117.5|   77| 201.2|      5.572|           30|             15|    4/17/2012|      109.5091165|\n|   20|   Chevrolet|   Cavalier|           145.519|               9.25|   Passenger|             13.26|        2.2|       115|    104.1| 67.9| 180.9|      2.676|         14.3|             27|    8/17/2011|      46.36334747|\n+-----+------------+-----------+------------------+-------------------+------------+------------------+-----------+----------+---------+-----+------+-----------+-------------+---------------+-------------+-----------------+\nonly showing top 20 rows\n\n"
     ]
    }
   ],
   "source": [
    "#Method 2 - Read single file\n",
    "df = spark.read.format(\"csv\").option(key = \"header\",value = True).load(\"dbfs:/FileStore/Car_sales1.csv\",haeder = True)\n",
    "df.show()"
   ]
  },
  {
   "cell_type": "code",
   "execution_count": 0,
   "metadata": {
    "application/vnd.databricks.v1+cell": {
     "cellMetadata": {
      "byteLimit": 2048000,
      "rowLimit": 10000
     },
     "inputWidgets": {},
     "nuid": "e7a1d6ae-84de-4af3-8a24-53fc9a5e7c76",
     "showTitle": false,
     "title": ""
    }
   },
   "outputs": [
    {
     "output_type": "stream",
     "name": "stdout",
     "output_type": "stream",
     "text": [
      "+-----+------------+-----------+------------------+-------------------+------------+------------------+-----------+----------+---------+-----+------+-----------+-------------+---------------+-------------+-----------------+\n|CarID|Manufacturer|      Model|Sales_in_thousands|__year_resale_value|Vehicle_type|Price_in_thousands|Engine_size|Horsepower|Wheelbase|Width|Length|Curb_weight|Fuel_capacity|Fuel_efficiency|Latest_Launch|Power_perf_factor|\n+-----+------------+-----------+------------------+-------------------+------------+------------------+-----------+----------+---------+-----+------+-----------+-------------+---------------+-------------+-----------------+\n|    1|       Acura|    Integra|            16.919|              16.36|   Passenger|              21.5|        1.8|       140|    101.2| 67.3| 172.4|      2.639|         13.2|             28|     2/2/2012|      58.28014952|\n|    2|       Acura|         TL|            39.384|             19.875|   Passenger|              28.4|        3.2|       225|    108.1| 70.3| 192.9|      3.517|         17.2|             25|     6/3/2011|      91.37077766|\n|    3|       Acura|         CL|            14.114|             18.225|   Passenger|              null|        3.2|       225|    106.9| 70.6|   192|       3.47|         17.2|             26|     1/4/2012|             null|\n|    4|       Acura|         RL|             8.588|             29.725|   Passenger|                42|        3.5|       210|    114.6| 71.4| 196.6|       3.85|           18|             22|    3/10/2011|      91.38977933|\n|    5|        Audi|         A4|            20.397|             22.255|   Passenger|             23.99|        1.8|       150|    102.6| 68.2|   178|      2.998|         16.4|             27|    10/8/2011|       62.7776392|\n|    6|        Audi|         A6|             18.78|             23.555|   Passenger|             33.95|        2.8|       200|    108.7| 76.1|   192|      3.561|         18.5|             22|     8/9/2011|      84.56510502|\n|    7|        Audi|         A8|              1.38|                 39|   Passenger|                62|        4.2|       310|      113|   74| 198.2|      3.902|         23.7|             21|    2/27/2012|      134.6568582|\n|    8|         BMW|       323i|            19.747|               null|   Passenger|             26.99|        2.5|       170|    107.3| 68.4|   176|      3.179|         16.6|             26|    6/28/2011|      71.19120671|\n|    9|         BMW|       328i|             9.231|             28.675|   Passenger|              33.4|        2.8|       193|    107.3| 68.5|   176|      3.197|         16.6|             24|    1/29/2012|      81.87706856|\n|   10|         BMW|       528i|            17.527|             36.125|   Passenger|              38.9|        2.8|       193|    111.4| 70.9|   188|      3.472|         18.5|             25|     4/4/2011|       83.9987238|\n|   11|       Buick|    Century|            91.561|             12.475|   Passenger|            21.975|        3.1|       175|      109| 72.7| 194.6|      3.368|         17.5|             25|    11/2/2011|      71.18145132|\n|   12|       Buick|      Regal|             39.35|              13.74|   Passenger|              25.3|        3.8|       240|      109| 72.7| 196.2|      3.543|         17.5|             23|     9/3/2011|      95.63670253|\n|   13|       Buick|Park Avenue|            27.851|              20.19|   Passenger|            31.965|        3.8|       205|    113.8| 74.7| 206.8|      3.778|         18.5|             24|    3/23/2012|      85.82840825|\n|   14|       Buick|    LeSabre|            83.257|              13.36|   Passenger|            27.885|        3.8|       205|    112.2| 73.5|   200|      3.591|         17.5|             25|    7/23/2011|      84.25452581|\n|   15|    Cadillac|    DeVille|            63.729|             22.525|   Passenger|            39.895|        4.6|       275|    115.3| 74.5| 207.2|      3.978|         18.5|             22|    2/23/2012|      113.8545976|\n|   16|    Cadillac|    Seville|            15.943|               27.1|   Passenger|            44.475|        4.6|       275|    112.2|   75|   201|       null|         18.5|             22|    4/29/2011|      115.6213578|\n|   17|    Cadillac|   Eldorado|             6.536|             25.725|   Passenger|            39.665|        4.6|       275|      108| 75.5| 200.6|      3.843|           19|             22|   11/27/2011|      113.7658739|\n|   18|    Cadillac|     Catera|            11.185|             18.225|   Passenger|             31.01|          3|       200|    107.4| 70.3| 194.8|       3.77|           18|             22|    9/28/2011|      83.48309358|\n|   19|    Cadillac|   Escalade|            14.785|               null|         Car|            46.225|        5.7|       255|    117.5|   77| 201.2|      5.572|           30|             15|    4/17/2012|      109.5091165|\n|   20|   Chevrolet|   Cavalier|           145.519|               9.25|   Passenger|             13.26|        2.2|       115|    104.1| 67.9| 180.9|      2.676|         14.3|             27|    8/17/2011|      46.36334747|\n+-----+------------+-----------+------------------+-------------------+------------+------------------+-----------+----------+---------+-----+------+-----------+-------------+---------------+-------------+-----------------+\nonly showing top 20 rows\n\n"
     ]
    }
   ],
   "source": [
    "#Method 3 - Read multiple file\n",
    "df = spark.read.format(\"csv\").option(key = \"header\",value = True).load(path = [\"dbfs:/FileStore/Car_sales1.csv\",\"dbfs:/FileStore/Car_sales2.csv\"],haeder = True)\n",
    "df.show()"
   ]
  },
  {
   "cell_type": "code",
   "execution_count": 0,
   "metadata": {
    "application/vnd.databricks.v1+cell": {
     "cellMetadata": {
      "byteLimit": 2048000,
      "rowLimit": 10000
     },
     "inputWidgets": {},
     "nuid": "7c80c783-e45c-47d6-a9b4-c0a9e557e408",
     "showTitle": false,
     "title": ""
    }
   },
   "outputs": [
    {
     "output_type": "stream",
     "name": "stdout",
     "output_type": "stream",
     "text": [
      "+-----+------------+-----------+------------------+-------------------+------------+------------------+-----------+----------+---------+-----+------+-----------+-------------+---------------+-------------+-----------------+\n|CarID|Manufacturer|      Model|Sales_in_thousands|__year_resale_value|Vehicle_type|Price_in_thousands|Engine_size|Horsepower|Wheelbase|Width|Length|Curb_weight|Fuel_capacity|Fuel_efficiency|Latest_Launch|Power_perf_factor|\n+-----+------------+-----------+------------------+-------------------+------------+------------------+-----------+----------+---------+-----+------+-----------+-------------+---------------+-------------+-----------------+\n|    1|       Acura|    Integra|            16.919|              16.36|   Passenger|              21.5|        1.8|       140|    101.2| 67.3| 172.4|      2.639|         13.2|             28|     2/2/2012|      58.28014952|\n|    2|       Acura|         TL|            39.384|             19.875|   Passenger|              28.4|        3.2|       225|    108.1| 70.3| 192.9|      3.517|         17.2|             25|     6/3/2011|      91.37077766|\n|    3|       Acura|         CL|            14.114|             18.225|   Passenger|              null|        3.2|       225|    106.9| 70.6|   192|       3.47|         17.2|             26|     1/4/2012|             null|\n|    4|       Acura|         RL|             8.588|             29.725|   Passenger|                42|        3.5|       210|    114.6| 71.4| 196.6|       3.85|           18|             22|    3/10/2011|      91.38977933|\n|    5|        Audi|         A4|            20.397|             22.255|   Passenger|             23.99|        1.8|       150|    102.6| 68.2|   178|      2.998|         16.4|             27|    10/8/2011|       62.7776392|\n|    6|        Audi|         A6|             18.78|             23.555|   Passenger|             33.95|        2.8|       200|    108.7| 76.1|   192|      3.561|         18.5|             22|     8/9/2011|      84.56510502|\n|    7|        Audi|         A8|              1.38|                 39|   Passenger|                62|        4.2|       310|      113|   74| 198.2|      3.902|         23.7|             21|    2/27/2012|      134.6568582|\n|    8|         BMW|       323i|            19.747|               null|   Passenger|             26.99|        2.5|       170|    107.3| 68.4|   176|      3.179|         16.6|             26|    6/28/2011|      71.19120671|\n|    9|         BMW|       328i|             9.231|             28.675|   Passenger|              33.4|        2.8|       193|    107.3| 68.5|   176|      3.197|         16.6|             24|    1/29/2012|      81.87706856|\n|   10|         BMW|       528i|            17.527|             36.125|   Passenger|              38.9|        2.8|       193|    111.4| 70.9|   188|      3.472|         18.5|             25|     4/4/2011|       83.9987238|\n|   11|       Buick|    Century|            91.561|             12.475|   Passenger|            21.975|        3.1|       175|      109| 72.7| 194.6|      3.368|         17.5|             25|    11/2/2011|      71.18145132|\n|   12|       Buick|      Regal|             39.35|              13.74|   Passenger|              25.3|        3.8|       240|      109| 72.7| 196.2|      3.543|         17.5|             23|     9/3/2011|      95.63670253|\n|   13|       Buick|Park Avenue|            27.851|              20.19|   Passenger|            31.965|        3.8|       205|    113.8| 74.7| 206.8|      3.778|         18.5|             24|    3/23/2012|      85.82840825|\n|   14|       Buick|    LeSabre|            83.257|              13.36|   Passenger|            27.885|        3.8|       205|    112.2| 73.5|   200|      3.591|         17.5|             25|    7/23/2011|      84.25452581|\n|   15|    Cadillac|    DeVille|            63.729|             22.525|   Passenger|            39.895|        4.6|       275|    115.3| 74.5| 207.2|      3.978|         18.5|             22|    2/23/2012|      113.8545976|\n|   16|    Cadillac|    Seville|            15.943|               27.1|   Passenger|            44.475|        4.6|       275|    112.2|   75|   201|       null|         18.5|             22|    4/29/2011|      115.6213578|\n|   17|    Cadillac|   Eldorado|             6.536|             25.725|   Passenger|            39.665|        4.6|       275|      108| 75.5| 200.6|      3.843|           19|             22|   11/27/2011|      113.7658739|\n|   18|    Cadillac|     Catera|            11.185|             18.225|   Passenger|             31.01|          3|       200|    107.4| 70.3| 194.8|       3.77|           18|             22|    9/28/2011|      83.48309358|\n|   19|    Cadillac|   Escalade|            14.785|               null|         Car|            46.225|        5.7|       255|    117.5|   77| 201.2|      5.572|           30|             15|    4/17/2012|      109.5091165|\n|   20|   Chevrolet|   Cavalier|           145.519|               9.25|   Passenger|             13.26|        2.2|       115|    104.1| 67.9| 180.9|      2.676|         14.3|             27|    8/17/2011|      46.36334747|\n+-----+------------+-----------+------------------+-------------------+------------+------------------+-----------+----------+---------+-----+------+-----------+-------------+---------------+-------------+-----------------+\nonly showing top 20 rows\n\n"
     ]
    }
   ],
   "source": [
    "#Method 3 - Read all file having same path\n",
    "df = spark.read.format(\"csv\").option(key = \"header\",value = True).load(path = [\"dbfs:/FileStore/Data\"],haeder = True)\n",
    "df.show()"
   ]
  },
  {
   "cell_type": "markdown",
   "metadata": {
    "application/vnd.databricks.v1+cell": {
     "cellMetadata": {
      "byteLimit": 2048000,
      "rowLimit": 10000
     },
     "inputWidgets": {},
     "nuid": "5d7e6c27-5ddb-4a2c-a4fa-0d2bd048fea8",
     "showTitle": false,
     "title": ""
    }
   },
   "source": [
    "#Write CSV File"
   ]
  },
  {
   "cell_type": "code",
   "execution_count": 0,
   "metadata": {
    "application/vnd.databricks.v1+cell": {
     "cellMetadata": {
      "byteLimit": 2048000,
      "rowLimit": 10000
     },
     "inputWidgets": {},
     "nuid": "c85bc8af-ccdb-4628-984e-03d78f7e2be7",
     "showTitle": false,
     "title": ""
    }
   },
   "outputs": [
    {
     "output_type": "stream",
     "name": "stdout",
     "output_type": "stream",
     "text": [
      "+---+------+---+\n| id|  name|age|\n+---+------+---+\n|  1|Pranci| 26|\n|  2| Tanna| 24|\n+---+------+---+\n\n"
     ]
    }
   ],
   "source": [
    "data = [(1,\"Pranci\",26),(2,\"Tanna\",24)]\n",
    "df = spark.createDataFrame(data = data, schema = ['id','name','age'])\n",
    "df.show()\n",
    "df.write.csv(path= \"dbfs:/FileStore/Data/Dummy\",header = True,mode = \"append\")\n",
    "# Modes:- append() - To add the data to the existing file\n",
    "# overwrite() - To overwrite the data to the existing file\n",
    "# ignore() - To Ignore write operation when the file already exist\n",
    "# error() - default optio, when the file already exist, it return error"
   ]
  },
  {
   "cell_type": "markdown",
   "metadata": {
    "application/vnd.databricks.v1+cell": {
     "cellMetadata": {},
     "inputWidgets": {},
     "nuid": "ecc432db-6abe-42fe-9f93-1b44311730f9",
     "showTitle": false,
     "title": ""
    }
   },
   "source": [
    "#Read JSON File"
   ]
  },
  {
   "cell_type": "code",
   "execution_count": 0,
   "metadata": {
    "application/vnd.databricks.v1+cell": {
     "cellMetadata": {
      "byteLimit": 2048000,
      "rowLimit": 10000
     },
     "inputWidgets": {},
     "nuid": "68125f30-08a8-4797-8e39-67f5fa0ba172",
     "showTitle": false,
     "title": ""
    }
   },
   "outputs": [
    {
     "output_type": "stream",
     "name": "stdout",
     "output_type": "stream",
     "text": [
      "+-------------------+-------+-------------+-------------------+-----+--------------------+--------------------+--------------+-------+-------------+------------+-----+---------------+----------+-----------+-----+-----+-----+-----------+-------+\n|               City|Country|Decommisioned|EstimatedPopulation|  Lat|            Location|        LocationText|  LocationType|   Long|        Notes|RecordNumber|State|TaxReturnsFiled|TotalWages|WorldRegion|Xaxis|Yaxis|Zaxis|ZipCodeType|Zipcode|\n+-------------------+-------+-------------+-------------------+-----+--------------------+--------------------+--------------+-------+-------------+------------+-----+---------------+----------+-----------+-----+-----+-----+-----------+-------+\n|        PARC PARQUE|     US|        false|               null|17.96|NA-US-PR-PARC PARQUE|     Parc Parque, PR|NOT ACCEPTABLE| -66.22|         null|           1|   PR|           null|      null|         NA| 0.38|-0.87|  0.3|   STANDARD|    704|\n|PASEO COSTA DEL SUR|     US|        false|               null|17.96|NA-US-PR-PASEO CO...|Paseo Costa Del S...|NOT ACCEPTABLE| -66.22|         null|           2|   PR|           null|      null|         NA| 0.38|-0.87|  0.3|   STANDARD|    704|\n|       BDA SAN LUIS|     US|        false|               null|18.14|NA-US-PR-BDA SAN ...|    Bda San Luis, PR|NOT ACCEPTABLE| -66.26|         null|          10|   PR|           null|      null|         NA| 0.38|-0.86| 0.31|   STANDARD|    709|\n|  CINGULAR WIRELESS|     US|        false|               null|32.72|NA-US-TX-CINGULAR...|Cingular Wireless...|NOT ACCEPTABLE| -97.31|         null|       61391|   TX|           null|      null|         NA| -0.1|-0.83| 0.54|     UNIQUE|  76166|\n|         FORT WORTH|     US|        false|               4053|32.75| NA-US-TX-FORT WORTH|      Fort Worth, TX|       PRIMARY| -97.33|         null|       61392|   TX|           2126| 122396986|         NA| -0.1|-0.83| 0.54|   STANDARD|  76177|\n|           FT WORTH|     US|        false|               4053|32.75|   NA-US-TX-FT WORTH|        Ft Worth, TX|    ACCEPTABLE| -97.33|         null|       61393|   TX|           2126| 122396986|         NA| -0.1|-0.83| 0.54|   STANDARD|  76177|\n|    URB EUGENE RICE|     US|        false|               null|17.96|NA-US-PR-URB EUGE...| Urb Eugene Rice, PR|NOT ACCEPTABLE| -66.22|         null|           4|   PR|           null|      null|         NA| 0.38|-0.87|  0.3|   STANDARD|    704|\n|               MESA|     US|        false|              26883|33.37|       NA-US-AZ-MESA|            Mesa, AZ|       PRIMARY|-111.64|no NWS data, |       39827|   AZ|          14962| 563792730|         NA| -0.3|-0.77| 0.55|   STANDARD|  85209|\n|               MESA|     US|        false|              25446|33.38|       NA-US-AZ-MESA|            Mesa, AZ|       PRIMARY|-111.84|         null|       39828|   AZ|          14374| 471000465|         NA|-0.31|-0.77| 0.55|   STANDARD|  85210|\n|           HILLIARD|     US|        false|               7443|30.69|   NA-US-FL-HILLIARD|        Hilliard, FL|       PRIMARY| -81.92|         null|       49345|   FL|           3922| 133112149|         NA| 0.12|-0.85| 0.51|   STANDARD|  32046|\n|             HOLDER|     US|        false|               null|28.96|     NA-US-FL-HOLDER|          Holder, FL|       PRIMARY| -82.41|         null|       49346|   FL|           null|      null|         NA| 0.11|-0.86| 0.48|     PO BOX|  34445|\n|               HOLT|     US|        false|               2190|30.72|       NA-US-FL-HOLT|            Holt, FL|       PRIMARY| -86.67|         null|       49347|   FL|           1207|  36395913|         NA| 0.04|-0.85| 0.51|   STANDARD|  32564|\n|          HOMOSASSA|     US|        false|               null|28.78|  NA-US-FL-HOMOSASSA|       Homosassa, FL|       PRIMARY| -82.61|         null|       49348|   FL|           null|      null|         NA| 0.11|-0.86| 0.48|     PO BOX|  34487|\n|       BDA SAN LUIS|     US|        false|               null|18.14|NA-US-PR-BDA SAN ...|    Bda San Luis, PR|NOT ACCEPTABLE| -66.26|         null|          10|   PR|           null|      null|         NA| 0.38|-0.86| 0.31|   STANDARD|    708|\n|      SECT LANAUSSE|     US|        false|               null|17.96|NA-US-PR-SECT LAN...|   Sect Lanausse, PR|NOT ACCEPTABLE| -66.22|         null|           3|   PR|           null|      null|         NA| 0.38|-0.87|  0.3|   STANDARD|    704|\n|      SPRING GARDEN|     US|        false|               null|33.97|NA-US-AL-SPRING G...|   Spring Garden, AL|       PRIMARY| -85.55|         null|       54354|   AL|           null|      null|         NA| 0.06|-0.82| 0.55|     PO BOX|  36275|\n|        SPRINGVILLE|     US|        false|               7845|33.77|NA-US-AL-SPRINGVILLE|     Springville, AL|       PRIMARY| -86.47|         null|       54355|   AL|           4046| 172127599|         NA| 0.05|-0.82| 0.55|   STANDARD|  35146|\n|        SPRUCE PINE|     US|        false|               1209|34.37|NA-US-AL-SPRUCE PINE|     Spruce Pine, AL|       PRIMARY| -87.69|         null|       54356|   AL|            610|  18525517|         NA| 0.03|-0.82| 0.56|   STANDARD|  35585|\n|           ASH HILL|     US|        false|               1666| 36.4|   NA-US-NC-ASH HILL|        Ash Hill, NC|NOT ACCEPTABLE| -80.56|         null|       76511|   NC|            842|  28876493|         NA| 0.13|-0.79| 0.59|   STANDARD|  27007|\n|           ASHEBORO|     US|        false|              15228|35.71|   NA-US-NC-ASHEBORO|        Asheboro, NC|       PRIMARY| -79.81|         null|       76512|   NC|           8355| 215474318|         NA| 0.14|-0.79| 0.58|   STANDARD|  27203|\n+-------------------+-------+-------------+-------------------+-----+--------------------+--------------------+--------------+-------+-------------+------------+-----+---------------+----------+-----------+-----+-----+-----+-----------+-------+\nonly showing top 20 rows\n\nOut[6]: 'path = \"dbfs:/FileStore/sample1.json\"\\ndf = spark.read.json(path).cache()\\ndf.show()'"
     ]
    }
   ],
   "source": [
    "# Method 1\n",
    "df1 = spark.read.json(\"dbfs:/FileStore/Data.json\")\n",
    "df1.show()"
   ]
  },
  {
   "cell_type": "code",
   "execution_count": 0,
   "metadata": {
    "application/vnd.databricks.v1+cell": {
     "cellMetadata": {
      "byteLimit": 2048000,
      "rowLimit": 10000
     },
     "inputWidgets": {},
     "nuid": "65bd4674-952e-42c9-8342-ef2952a2f3a7",
     "showTitle": false,
     "title": ""
    }
   },
   "outputs": [
    {
     "output_type": "stream",
     "name": "stdout",
     "output_type": "stream",
     "text": [
      "+-------------------+-------+-------------+-------------------+-----+--------------------+--------------------+--------------+-------+-------------+------------+-----+---------------+----------+-----------+-----+-----+-----+-----------+-------+\n|               City|Country|Decommisioned|EstimatedPopulation|  Lat|            Location|        LocationText|  LocationType|   Long|        Notes|RecordNumber|State|TaxReturnsFiled|TotalWages|WorldRegion|Xaxis|Yaxis|Zaxis|ZipCodeType|Zipcode|\n+-------------------+-------+-------------+-------------------+-----+--------------------+--------------------+--------------+-------+-------------+------------+-----+---------------+----------+-----------+-----+-----+-----+-----------+-------+\n|        PARC PARQUE|     US|        false|               null|17.96|NA-US-PR-PARC PARQUE|     Parc Parque, PR|NOT ACCEPTABLE| -66.22|         null|           1|   PR|           null|      null|         NA| 0.38|-0.87|  0.3|   STANDARD|    704|\n|PASEO COSTA DEL SUR|     US|        false|               null|17.96|NA-US-PR-PASEO CO...|Paseo Costa Del S...|NOT ACCEPTABLE| -66.22|         null|           2|   PR|           null|      null|         NA| 0.38|-0.87|  0.3|   STANDARD|    704|\n|       BDA SAN LUIS|     US|        false|               null|18.14|NA-US-PR-BDA SAN ...|    Bda San Luis, PR|NOT ACCEPTABLE| -66.26|         null|          10|   PR|           null|      null|         NA| 0.38|-0.86| 0.31|   STANDARD|    709|\n|  CINGULAR WIRELESS|     US|        false|               null|32.72|NA-US-TX-CINGULAR...|Cingular Wireless...|NOT ACCEPTABLE| -97.31|         null|       61391|   TX|           null|      null|         NA| -0.1|-0.83| 0.54|     UNIQUE|  76166|\n|         FORT WORTH|     US|        false|               4053|32.75| NA-US-TX-FORT WORTH|      Fort Worth, TX|       PRIMARY| -97.33|         null|       61392|   TX|           2126| 122396986|         NA| -0.1|-0.83| 0.54|   STANDARD|  76177|\n|           FT WORTH|     US|        false|               4053|32.75|   NA-US-TX-FT WORTH|        Ft Worth, TX|    ACCEPTABLE| -97.33|         null|       61393|   TX|           2126| 122396986|         NA| -0.1|-0.83| 0.54|   STANDARD|  76177|\n|    URB EUGENE RICE|     US|        false|               null|17.96|NA-US-PR-URB EUGE...| Urb Eugene Rice, PR|NOT ACCEPTABLE| -66.22|         null|           4|   PR|           null|      null|         NA| 0.38|-0.87|  0.3|   STANDARD|    704|\n|               MESA|     US|        false|              26883|33.37|       NA-US-AZ-MESA|            Mesa, AZ|       PRIMARY|-111.64|no NWS data, |       39827|   AZ|          14962| 563792730|         NA| -0.3|-0.77| 0.55|   STANDARD|  85209|\n|               MESA|     US|        false|              25446|33.38|       NA-US-AZ-MESA|            Mesa, AZ|       PRIMARY|-111.84|         null|       39828|   AZ|          14374| 471000465|         NA|-0.31|-0.77| 0.55|   STANDARD|  85210|\n|           HILLIARD|     US|        false|               7443|30.69|   NA-US-FL-HILLIARD|        Hilliard, FL|       PRIMARY| -81.92|         null|       49345|   FL|           3922| 133112149|         NA| 0.12|-0.85| 0.51|   STANDARD|  32046|\n|             HOLDER|     US|        false|               null|28.96|     NA-US-FL-HOLDER|          Holder, FL|       PRIMARY| -82.41|         null|       49346|   FL|           null|      null|         NA| 0.11|-0.86| 0.48|     PO BOX|  34445|\n|               HOLT|     US|        false|               2190|30.72|       NA-US-FL-HOLT|            Holt, FL|       PRIMARY| -86.67|         null|       49347|   FL|           1207|  36395913|         NA| 0.04|-0.85| 0.51|   STANDARD|  32564|\n|          HOMOSASSA|     US|        false|               null|28.78|  NA-US-FL-HOMOSASSA|       Homosassa, FL|       PRIMARY| -82.61|         null|       49348|   FL|           null|      null|         NA| 0.11|-0.86| 0.48|     PO BOX|  34487|\n|       BDA SAN LUIS|     US|        false|               null|18.14|NA-US-PR-BDA SAN ...|    Bda San Luis, PR|NOT ACCEPTABLE| -66.26|         null|          10|   PR|           null|      null|         NA| 0.38|-0.86| 0.31|   STANDARD|    708|\n|      SECT LANAUSSE|     US|        false|               null|17.96|NA-US-PR-SECT LAN...|   Sect Lanausse, PR|NOT ACCEPTABLE| -66.22|         null|           3|   PR|           null|      null|         NA| 0.38|-0.87|  0.3|   STANDARD|    704|\n|      SPRING GARDEN|     US|        false|               null|33.97|NA-US-AL-SPRING G...|   Spring Garden, AL|       PRIMARY| -85.55|         null|       54354|   AL|           null|      null|         NA| 0.06|-0.82| 0.55|     PO BOX|  36275|\n|        SPRINGVILLE|     US|        false|               7845|33.77|NA-US-AL-SPRINGVILLE|     Springville, AL|       PRIMARY| -86.47|         null|       54355|   AL|           4046| 172127599|         NA| 0.05|-0.82| 0.55|   STANDARD|  35146|\n|        SPRUCE PINE|     US|        false|               1209|34.37|NA-US-AL-SPRUCE PINE|     Spruce Pine, AL|       PRIMARY| -87.69|         null|       54356|   AL|            610|  18525517|         NA| 0.03|-0.82| 0.56|   STANDARD|  35585|\n|           ASH HILL|     US|        false|               1666| 36.4|   NA-US-NC-ASH HILL|        Ash Hill, NC|NOT ACCEPTABLE| -80.56|         null|       76511|   NC|            842|  28876493|         NA| 0.13|-0.79| 0.59|   STANDARD|  27007|\n|           ASHEBORO|     US|        false|              15228|35.71|   NA-US-NC-ASHEBORO|        Asheboro, NC|       PRIMARY| -79.81|         null|       76512|   NC|           8355| 215474318|         NA| 0.14|-0.79| 0.58|   STANDARD|  27203|\n+-------------------+-------+-------------+-------------------+-----+--------------------+--------------------+--------------+-------+-------------+------------+-----+---------------+----------+-----------+-----+-----+-----+-----------+-------+\nonly showing top 20 rows\n\n"
     ]
    }
   ],
   "source": [
    "# Method 2\n",
    "df1 = spark.read.format(\"org.apache.spark.sql.json\").load(\"dbfs:/FileStore/Data.json\")\n",
    "df1.show()"
   ]
  },
  {
   "cell_type": "code",
   "execution_count": 0,
   "metadata": {
    "application/vnd.databricks.v1+cell": {
     "cellMetadata": {
      "byteLimit": 2048000,
      "rowLimit": 10000
     },
     "inputWidgets": {},
     "nuid": "e6400980-04a4-43ce-86dc-8a48c62e807f",
     "showTitle": false,
     "title": ""
    }
   },
   "outputs": [
    {
     "output_type": "stream",
     "name": "stdout",
     "output_type": "stream",
     "text": [
      "+-----------+-------+-------------+-----+--------------------+---------------+--------------+------+------------+-----+-----------+-----+-----+-----+-----------+-------+\n|       City|Country|Decommisioned|  Lat|            Location|   LocationText|  LocationType|  Long|RecordNumber|State|WorldRegion|Xaxis|Yaxis|Zaxis|ZipCodeType|Zipcode|\n+-----------+-------+-------------+-----+--------------------+---------------+--------------+------+------------+-----+-----------+-----+-----+-----+-----------+-------+\n|PARC PARQUE|     US|        false|17.96|NA-US-PR-PARC PARQUE|Parc Parque, PR|NOT ACCEPTABLE|-66.22|           1|   PR|         NA| 0.38|-0.87|  0.3|   STANDARD|    704|\n+-----------+-------+-------------+-----+--------------------+---------------+--------------+------+------------+-----+-----------+-----+-----+-----+-----------+-------+\n\n"
     ]
    }
   ],
   "source": [
    "# Method 3 - For multiline files\n",
    "df = spark.read.option(\"multiline\",\"True\").json(\"dbfs:/FileStore/Data.json\")\n",
    "df.show()"
   ]
  },
  {
   "cell_type": "markdown",
   "metadata": {
    "application/vnd.databricks.v1+cell": {
     "cellMetadata": {},
     "inputWidgets": {},
     "nuid": "8af10495-dcd4-4462-bda4-36df1a349cc6",
     "showTitle": false,
     "title": ""
    }
   },
   "source": [
    "#Write JSON data into Dataframe"
   ]
  },
  {
   "cell_type": "code",
   "execution_count": 0,
   "metadata": {
    "application/vnd.databricks.v1+cell": {
     "cellMetadata": {
      "byteLimit": 2048000,
      "rowLimit": 10000
     },
     "inputWidgets": {},
     "nuid": "3010ad74-d05c-4dad-8a66-59f9fbec193e",
     "showTitle": false,
     "title": ""
    }
   },
   "outputs": [],
   "source": [
    "data = [(1,\"Pranci\"),(2,\"Tanna\")]\n",
    "schema = [\"id\",\"name\"]\n",
    "df = spark.createDataFrame(data = data, schema = schema)\n",
    "df.write.json(\"dbfs:/FileStore/SampleData.json\")"
   ]
  },
  {
   "cell_type": "code",
   "execution_count": 0,
   "metadata": {
    "application/vnd.databricks.v1+cell": {
     "cellMetadata": {},
     "inputWidgets": {},
     "nuid": "29529267-0c34-4064-9ab4-128fa3211915",
     "showTitle": false,
     "title": ""
    }
   },
   "outputs": [],
   "source": []
  }
 ],
 "metadata": {
  "application/vnd.databricks.v1+notebook": {
   "dashboards": [],
   "language": "python",
   "notebookMetadata": {
    "pythonIndentUnit": 4
   },
   "notebookName": "Pyspark Basic",
   "widgets": {}
  }
 },
 "nbformat": 4,
 "nbformat_minor": 0
}
